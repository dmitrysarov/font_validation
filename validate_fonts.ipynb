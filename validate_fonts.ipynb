{
 "cells": [
  {
   "cell_type": "code",
   "execution_count": 9,
   "metadata": {},
   "outputs": [],
   "source": [
    "from fontTools.ttLib import TTFont\n",
    "from fontTools.unicode import Unicode\n",
    "import os\n",
    "import unicodedata\n",
    "from tqdm import tqdm\n",
    "import matplotlib.pyplot as plt\n",
    "from PIL import Image, ImageDraw, ImageFont\n",
    "import numpy as np\n",
    "import shutil"
   ]
  },
  {
   "cell_type": "code",
   "execution_count": 2,
   "metadata": {},
   "outputs": [],
   "source": [
    "dir_gen = os.walk('fonts/')\n",
    "font_files = next(dir_gen)"
   ]
  },
  {
   "cell_type": "code",
   "execution_count": 3,
   "metadata": {},
   "outputs": [],
   "source": [
    "charecters_of_interest = ' !\"%&()*+,-./0123456789:=ABCDEFGHIJKLMNOPQRSTUVWXYZ\\\\_abcdefghijklmnopqrstuvwxyz|~ЁАБВГДЕЖЗИЙКЛМНОПРСТУФХЦЧШЩЪЫЬЭЮЯабвгдежзийклмнопрстуфхцчшщъыьэюяё№'"
   ]
  },
  {
   "cell_type": "code",
   "execution_count": 6,
   "metadata": {},
   "outputs": [
    {
     "name": "stderr",
     "output_type": "stream",
     "text": [
      "100%|██████████| 2670/2670 [17:17<00:00,  2.57it/s]\n"
     ]
    }
   ],
   "source": [
    "valid_fonts = []\n",
    "for ff in tqdm(font_files[2]):\n",
    "    with TTFont(font_files[0] + ff) as ttf:\n",
    "        chars = []\n",
    "        for x in ttf[\"cmap\"].tables:\n",
    "            for y in x.cmap.items():\n",
    "                try:\n",
    "                    char = unicodedata.lookup(Unicode[y[0]])\n",
    "                    chars.append(char)\n",
    "                except:\n",
    "#                     print('Can not add char {}'.format(Unicode[y[0]]))\n",
    "                    continue\n",
    "    if set(chars).issubset(set(charecters_of_interest)):\n",
    "        valid_fonts.append(ff)"
   ]
  },
  {
   "cell_type": "code",
   "execution_count": 7,
   "metadata": {
    "scrolled": true
   },
   "outputs": [],
   "source": [
    "plt.rcParams['figure.figsize'] = (20,20)\n",
    "cant_print = []\n",
    "for n, vf in enumerate(valid_fonts):\n",
    "    print(n)\n",
    "    print(vf)\n",
    "    txt = Image.new('RGBA', (1700,200), (255,255,255,0))\n",
    "    fnt = ImageFont.truetype(font_files[0] + vf, 60)\n",
    "    d = ImageDraw.Draw(txt)\n",
    "    try:\n",
    "        d.text((10,10), '!\"%&()*+,-./0Ё№a1234ABCabcАБВабв', font=fnt, fill=(0,0,0,255))\n",
    "    except: \n",
    "        cant_print.append(vf) # collect fons which couldn't be plot for some reason\n",
    "        continue\n",
    "    plt.imshow(np.asarray(txt))\n",
    "    plt.show()"
   ]
  },
  {
   "cell_type": "code",
   "execution_count": 10,
   "metadata": {},
   "outputs": [],
   "source": [
    "if os.path.isdir('valid_fonts'):\n",
    "    shutil.rmtree('valid_fonts')\n",
    "os.mkdir('valid_fonts')\n",
    "for vf in set(valid_fonts).difference(set(cant_print)):\n",
    "    !cp {font_files[0] + vf} './valid_fonts'"
   ]
  }
 ],
 "metadata": {
  "kernelspec": {
   "display_name": "Python 3",
   "language": "python",
   "name": "python3"
  },
  "language_info": {
   "codemirror_mode": {
    "name": "ipython",
    "version": 3
   },
   "file_extension": ".py",
   "mimetype": "text/x-python",
   "name": "python",
   "nbconvert_exporter": "python",
   "pygments_lexer": "ipython3",
   "version": "3.5.2"
  }
 },
 "nbformat": 4,
 "nbformat_minor": 2
}
