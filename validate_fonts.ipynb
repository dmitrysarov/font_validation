{
 "cells": [
  {
   "cell_type": "code",
   "execution_count": 3,
   "metadata": {},
   "outputs": [],
   "source": [
    "from fontTools.ttLib import TTFont\n",
    "from fontTools.unicode import Unicode\n",
    "import os\n",
    "import unicodedata\n",
    "from tqdm import tqdm"
   ]
  },
  {
   "cell_type": "code",
   "execution_count": 4,
   "metadata": {},
   "outputs": [],
   "source": [
    "dir_gen = os.walk('fonts/')\n",
    "font_files = next(dir_gen)"
   ]
  },
  {
   "cell_type": "code",
   "execution_count": 5,
   "metadata": {},
   "outputs": [],
   "source": [
    "charecters_of_interest = ' !\"%&()*+,-./0123456789:=ABCDEFGHIJKLMNOPQRSTUVWXYZ\\\\_abcdefghijklmnopqrstuvwxyz|~ЁАБВГДЕЖЗИЙКЛМНОПРСТУФХЦЧШЩЪЫЬЭЮЯабвгдежзийклмнопрстуфхцчшщъыьэюяё№'"
   ]
  },
  {
   "cell_type": "code",
   "execution_count": 6,
   "metadata": {},
   "outputs": [
    {
     "name": "stderr",
     "output_type": "stream",
     "text": [
      "100%|██████████| 2670/2670 [17:06<00:00,  2.60it/s]\n"
     ]
    }
   ],
   "source": [
    "valid_fonts = []\n",
    "for ff in tqdm(font_files[2]):\n",
    "    with TTFont(font_files[0] + ff) as ttf:\n",
    "        chars = []\n",
    "        for x in ttf[\"cmap\"].tables:\n",
    "            for y in x.cmap.items():\n",
    "                try:\n",
    "                    char = unicodedata.lookup(Unicode[y[0]])\n",
    "                    chars.append(char)\n",
    "                except:\n",
    "#                     print('Can not add char {}'.format(Unicode[y[0]]))\n",
    "                    continue\n",
    "    if len(set(charecters_of_interest).intersection(set(chars))) == len(charecters_of_interest):\n",
    "        valid_fonts.append(ff)"
   ]
  },
  {
   "cell_type": "code",
   "execution_count": null,
   "metadata": {},
   "outputs": [],
   "source": [
    "valid_fonts"
   ]
  }
 ],
 "metadata": {
  "kernelspec": {
   "display_name": "Python 3",
   "language": "python",
   "name": "python3"
  }
 },
 "nbformat": 4,
 "nbformat_minor": 2
}
